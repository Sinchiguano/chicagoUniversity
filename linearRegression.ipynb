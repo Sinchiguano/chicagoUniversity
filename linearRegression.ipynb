{
  "nbformat": 4,
  "nbformat_minor": 0,
  "metadata": {
    "colab": {
      "provenance": [],
      "authorship_tag": "ABX9TyNrFSC9RIqTjIFanc0LRiKy",
      "include_colab_link": true
    },
    "kernelspec": {
      "name": "python3",
      "display_name": "Python 3"
    },
    "language_info": {
      "name": "python"
    }
  },
  "cells": [
    {
      "cell_type": "markdown",
      "metadata": {
        "id": "view-in-github",
        "colab_type": "text"
      },
      "source": [
        "<a href=\"https://colab.research.google.com/github/Sinchiguano/chicagoUniversity/blob/main/linearRegression.ipynb\" target=\"_parent\"><img src=\"https://colab.research.google.com/assets/colab-badge.svg\" alt=\"Open In Colab\"/></a>"
      ]
    },
    {
      "cell_type": "code",
      "execution_count": 13,
      "metadata": {
        "id": "yIMr3FryTxok"
      },
      "outputs": [],
      "source": [
        "import pandas as pd\n",
        "#Get Started: 3 Ways to Load CSV files into Colab\n",
        "#https://towardsdatascience.com/3-ways-to-load-csv-files-into-colab-7c14fcbdcb92\n"
      ]
    },
    {
      "cell_type": "code",
      "source": [
        "from google.colab import files\n",
        "import io\n",
        "url = 'https://raw.githubusercontent.com/Sinchiguano/chicagoUniversity/main/cta_Ridership.csv'\n",
        "df = pd.read_csv(url)"
      ],
      "metadata": {
        "id": "pYGW5HgwT1yQ"
      },
      "execution_count": 16,
      "outputs": []
    },
    {
      "cell_type": "code",
      "source": [
        "print(df.head())"
      ],
      "metadata": {
        "id": "AOMIkL_wVXek",
        "colab": {
          "base_uri": "https://localhost:8080/"
        },
        "outputId": "da295636-6a5f-4311-ef96-b936519e330e"
      },
      "execution_count": 17,
      "outputs": [
        {
          "output_type": "stream",
          "name": "stdout",
          "text": [
            "   station_id       stationname        date daytype  rides\n",
            "0       41280    Jefferson Park  12/22/2017       W   6104\n",
            "1       41000  Cermak-Chinatown  12/18/2017       W   3636\n",
            "2       40280      Central-Lake  12/02/2017       A   1270\n",
            "3       40140   Dempster-Skokie  12/19/2017       W   1759\n",
            "4       40690          Dempster  12/03/2017       U    499\n"
          ]
        }
      ]
    },
    {
      "cell_type": "code",
      "source": [],
      "metadata": {
        "id": "d8jQFop_Shs5"
      },
      "execution_count": 18,
      "outputs": []
    },
    {
      "cell_type": "markdown",
      "source": [
        "**Linear Regression **"
      ],
      "metadata": {
        "id": "3oUSE-1jdnM8"
      }
    },
    {
      "cell_type": "code",
      "source": [
        "import numpy as np\n",
        "import pandas as pd\n",
        "import matplotlib.pyplot as plt\n"
      ],
      "metadata": {
        "id": "-se-WT5fdlst"
      },
      "execution_count": 23,
      "outputs": []
    },
    {
      "cell_type": "code",
      "source": [
        "## Features and Outputs"
      ],
      "metadata": {
        "id": "qO8MLbsJd9TH"
      },
      "execution_count": 25,
      "outputs": []
    },
    {
      "cell_type": "code",
      "source": [
        "points = np.asarray([(10,20), (15,40), (30,90), (32,88), (5,10), (2,3), (6,5), (20,70), (22,75), (18,50)])\n",
        "print(points)\n"
      ],
      "metadata": {
        "colab": {
          "base_uri": "https://localhost:8080/"
        },
        "id": "gpP-p8D4d-lq",
        "outputId": "63fd9b0f-d62c-4240-93e5-7529fa6dff47"
      },
      "execution_count": 30,
      "outputs": [
        {
          "output_type": "stream",
          "name": "stdout",
          "text": [
            "[[10 20]\n",
            " [15 40]\n",
            " [30 90]\n",
            " [32 88]\n",
            " [ 5 10]\n",
            " [ 2  3]\n",
            " [ 6  5]\n",
            " [20 70]\n",
            " [22 75]\n",
            " [18 50]]\n"
          ]
        }
      ]
    },
    {
      "cell_type": "code",
      "source": [
        "points.shape"
      ],
      "metadata": {
        "colab": {
          "base_uri": "https://localhost:8080/"
        },
        "id": "xY7qkiF-eOXN",
        "outputId": "42cad098-cc19-4218-d055-9f11c81f630c"
      },
      "execution_count": 31,
      "outputs": [
        {
          "output_type": "execute_result",
          "data": {
            "text/plain": [
              "(10, 2)"
            ]
          },
          "metadata": {},
          "execution_count": 31
        }
      ]
    },
    {
      "cell_type": "markdown",
      "source": [
        "We can plot these points using matplotlib, as below"
      ],
      "metadata": {
        "id": "kpBI8JxpeeZq"
      }
    },
    {
      "cell_type": "code",
      "source": [
        "import matplotlib.pyplot as plt\n",
        "x=points[:,0]\n",
        "Y=points[:,1]\n",
        "plt.plot()\n"
      ],
      "metadata": {
        "id": "HxZFGfweefpk"
      },
      "execution_count": 33,
      "outputs": []
    },
    {
      "cell_type": "markdown",
      "source": [],
      "metadata": {
        "id": "JoRZc0PteaW0"
      }
    }
  ]
}