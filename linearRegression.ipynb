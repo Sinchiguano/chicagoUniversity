{
  "nbformat": 4,
  "nbformat_minor": 0,
  "metadata": {
    "colab": {
      "provenance": [],
      "authorship_tag": "ABX9TyOqplTUzQCG9t0pf2i07oNa",
      "include_colab_link": true
    },
    "kernelspec": {
      "name": "python3",
      "display_name": "Python 3"
    },
    "language_info": {
      "name": "python"
    }
  },
  "cells": [
    {
      "cell_type": "markdown",
      "metadata": {
        "id": "view-in-github",
        "colab_type": "text"
      },
      "source": [
        "<a href=\"https://colab.research.google.com/github/Sinchiguano/chicagoUniversity/blob/main/linearRegression.ipynb\" target=\"_parent\"><img src=\"https://colab.research.google.com/assets/colab-badge.svg\" alt=\"Open In Colab\"/></a>"
      ]
    },
    {
      "cell_type": "code",
      "execution_count": 2,
      "metadata": {
        "id": "yIMr3FryTxok"
      },
      "outputs": [],
      "source": [
        "import pandas as pd\n",
        "#Get Started: 3 Ways to Load CSV files into Colab\n",
        "#https://towardsdatascience.com/3-ways-to-load-csv-files-into-colab-7c14fcbdcb92\n"
      ]
    },
    {
      "cell_type": "code",
      "source": [
        "from google.colab import files\n",
        "import io\n",
        "url = 'https://raw.githubusercontent.com/Sinchiguano/chicagoUniversity/main/cta_Ridership.csv'\n",
        "df = pd.read_csv(url)"
      ],
      "metadata": {
        "id": "pYGW5HgwT1yQ"
      },
      "execution_count": 3,
      "outputs": []
    },
    {
      "cell_type": "code",
      "source": [
        "print(df.head())"
      ],
      "metadata": {
        "id": "AOMIkL_wVXek",
        "colab": {
          "base_uri": "https://localhost:8080/"
        },
        "outputId": "aaa7a131-afe5-4012-f075-0d295c2b3454"
      },
      "execution_count": 4,
      "outputs": [
        {
          "output_type": "stream",
          "name": "stdout",
          "text": [
            "   station_id       stationname        date daytype  rides\n",
            "0       41280    Jefferson Park  12/22/2017       W   6104\n",
            "1       41000  Cermak-Chinatown  12/18/2017       W   3636\n",
            "2       40280      Central-Lake  12/02/2017       A   1270\n",
            "3       40140   Dempster-Skokie  12/19/2017       W   1759\n",
            "4       40690          Dempster  12/03/2017       U    499\n"
          ]
        }
      ]
    },
    {
      "cell_type": "code",
      "source": [],
      "metadata": {
        "id": "d8jQFop_Shs5"
      },
      "execution_count": 4,
      "outputs": []
    },
    {
      "cell_type": "markdown",
      "source": [
        "**Linear Regression **"
      ],
      "metadata": {
        "id": "3oUSE-1jdnM8"
      }
    },
    {
      "cell_type": "code",
      "source": [
        "import numpy as np\n",
        "import pandas as pd\n",
        "import matplotlib.pyplot as plt\n"
      ],
      "metadata": {
        "id": "-se-WT5fdlst"
      },
      "execution_count": 5,
      "outputs": []
    },
    {
      "cell_type": "code",
      "source": [
        "## Features and Outputs"
      ],
      "metadata": {
        "id": "qO8MLbsJd9TH"
      },
      "execution_count": 6,
      "outputs": []
    },
    {
      "cell_type": "code",
      "source": [
        "points = np.asarray([(10,20), (15,40), (30,90), (32,88), (5,10), (2,3), (6,5), (20,70), (22,75), (18,50)])\n",
        "print(points)\n"
      ],
      "metadata": {
        "colab": {
          "base_uri": "https://localhost:8080/"
        },
        "id": "gpP-p8D4d-lq",
        "outputId": "cf5e4514-1de5-4ab7-c069-b8cb7eab65b9"
      },
      "execution_count": 7,
      "outputs": [
        {
          "output_type": "stream",
          "name": "stdout",
          "text": [
            "[[10 20]\n",
            " [15 40]\n",
            " [30 90]\n",
            " [32 88]\n",
            " [ 5 10]\n",
            " [ 2  3]\n",
            " [ 6  5]\n",
            " [20 70]\n",
            " [22 75]\n",
            " [18 50]]\n"
          ]
        }
      ]
    },
    {
      "cell_type": "code",
      "source": [
        "points.shape"
      ],
      "metadata": {
        "colab": {
          "base_uri": "https://localhost:8080/"
        },
        "id": "xY7qkiF-eOXN",
        "outputId": "4ab6361d-362c-42d5-d657-2d4d9f2aac63"
      },
      "execution_count": 8,
      "outputs": [
        {
          "output_type": "execute_result",
          "data": {
            "text/plain": [
              "(10, 2)"
            ]
          },
          "metadata": {},
          "execution_count": 8
        }
      ]
    },
    {
      "cell_type": "markdown",
      "source": [
        "We can plot these points using matplotlib, as below"
      ],
      "metadata": {
        "id": "kpBI8JxpeeZq"
      }
    },
    {
      "cell_type": "code",
      "source": [
        "import matplotlib.pyplot as plt\n",
        "x=points[:,0]\n",
        "Y=points[:,1]\n",
        "plt.plot(x,Y,'*',color='blue')\n",
        "plt.xlabel('Temperature (C)')\n",
        "plt.ylabel('People in the Park')\n",
        "plt.xlim((0,35))\n",
        "plt.ylim((0,101))\n",
        "plt.show()"
      ],
      "metadata": {
        "colab": {
          "base_uri": "https://localhost:8080/",
          "height": 451
        },
        "id": "HxZFGfweefpk",
        "outputId": "c4ae1bd8-ef52-46ed-96ba-c22c9bd566cf"
      },
      "execution_count": 9,
      "outputs": [
        {
          "output_type": "display_data",
          "data": {
            "text/plain": [
              "<Figure size 640x480 with 1 Axes>"
            ],
            "image/png": "[encoded data removed]"
          },
          "metadata": {}
        }
      ]
    },
    {
      "cell_type": "code",
      "source": [
        "\n",
        "m=3\n",
        "b=2\n",
        "#CALCULATE TEH DISTANCES FROM THE LINE TO THE POINTS\n",
        "\n",
        "xPoints,yPoints=points[:,0],points[:,1]\n",
        "line_y=m*xPoints+b\n",
        "\n",
        "#COMPUTE THE ERROR\n",
        "distances=np.sqrt((yPoints-line_y)**2)\n",
        "print(distances)\n",
        "totalDistances=np.sum(distances)\n",
        "#print(\"{.4f}\".format(totatDistances))"
      ],
      "metadata": {
        "id": "-1oZgROFf-Uf",
        "outputId": "22d201e8-8644-430c-ca42-c91304f1e696",
        "colab": {
          "base_uri": "https://localhost:8080/",
          "height": 217
        }
      },
      "execution_count": 13,
      "outputs": [
        {
          "output_type": "stream",
          "name": "stdout",
          "text": [
            "[12.  7.  2. 10.  7.  5. 15.  8.  7.  6.]\n"
          ]
        },
        {
          "output_type": "error",
          "ename": "NameError",
          "evalue": "ignored",
          "traceback": [
            "\u001b[0;31m---------------------------------------------------------------------------\u001b[0m",
            "\u001b[0;31mNameError\u001b[0m                                 Traceback (most recent call last)",
            "\u001b[0;32m<ipython-input-13-f6afa5e14b81>\u001b[0m in \u001b[0;36m<cell line: 12>\u001b[0;34m()\u001b[0m\n\u001b[1;32m     10\u001b[0m \u001b[0mprint\u001b[0m\u001b[0;34m(\u001b[0m\u001b[0mdistances\u001b[0m\u001b[0;34m)\u001b[0m\u001b[0;34m\u001b[0m\u001b[0;34m\u001b[0m\u001b[0m\n\u001b[1;32m     11\u001b[0m \u001b[0mtotalDistances\u001b[0m\u001b[0;34m=\u001b[0m\u001b[0mnp\u001b[0m\u001b[0;34m.\u001b[0m\u001b[0msum\u001b[0m\u001b[0;34m(\u001b[0m\u001b[0mdistances\u001b[0m\u001b[0;34m)\u001b[0m\u001b[0;34m\u001b[0m\u001b[0;34m\u001b[0m\u001b[0m\n\u001b[0;32m---> 12\u001b[0;31m \u001b[0mprint\u001b[0m\u001b[0;34m(\u001b[0m\u001b[0;34m\"{.4f}\"\u001b[0m\u001b[0;34m.\u001b[0m\u001b[0mformat\u001b[0m\u001b[0;34m(\u001b[0m\u001b[0mtotatDistances\u001b[0m\u001b[0;34m)\u001b[0m\u001b[0;34m)\u001b[0m\u001b[0;34m\u001b[0m\u001b[0;34m\u001b[0m\u001b[0m\n\u001b[0m",
            "\u001b[0;31mNameError\u001b[0m: name 'totatDistances' is not defined"
          ]
        }
      ]
    },
    {
      "cell_type": "markdown",
      "source": [],
      "metadata": {
        "id": "JoRZc0PteaW0"
      }
    }
  ]
}