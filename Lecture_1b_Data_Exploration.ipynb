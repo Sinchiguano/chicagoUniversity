{
  "nbformat": 4,
  "nbformat_minor": 0,
  "metadata": {
    "colab": {
      "provenance": [],
      "authorship_tag": "ABX9TyNpHq6rMUveQ0xTd9MOfXF8",
      "include_colab_link": true
    },
    "kernelspec": {
      "name": "python3",
      "display_name": "Python 3"
    },
    "language_info": {
      "name": "python"
    }
  },
  "cells": [
    {
      "cell_type": "markdown",
      "metadata": {
        "id": "view-in-github",
        "colab_type": "text"
      },
      "source": [
        "<a href=\"https://colab.research.google.com/github/Sinchiguano/chicagoUniversity/blob/main/Lecture_1b_Data_Exploration.ipynb\" target=\"_parent\"><img src=\"https://colab.research.google.com/assets/colab-badge.svg\" alt=\"Open In Colab\"/></a>"
      ]
    },
    {
      "cell_type": "markdown",
      "source": [
        "Here we will explore the basics of Pandas with an example dataset from the Chicago Data Portal at https://data.cityofchicago.org. You should take some time to explore the portal and find your own datasets of interest to explore!"
      ],
      "metadata": {
        "id": "ADbpZolPW1xa"
      }
    },
    {
      "cell_type": "code",
      "source": [
        "import pandas as pd\n",
        "\n",
        "\n",
        "# LINK FOR THE DATASET\n",
        "# https://data.cityofchicago.org/Transportation/CTA-Ridership-L-Station-Entries-Daily-Totals/5neh-572f\n",
        "# from google.colab import files\n",
        "# import io\n",
        "\n",
        "\n",
        "#IMPORTING THE FILE FROM MY GITHUT PERSONAL ACCOUNT\n",
        "url = 'https://raw.githubusercontent.com/Sinchiguano/chicagoUniversity/main/Station_Entries_Daily_Totals.csv'\n",
        "df = pd.read_csv(url)"
      ],
      "metadata": {
        "id": "YCdTNIFeXBcv"
      },
      "execution_count": null,
      "outputs": []
    },
    {
      "cell_type": "markdown",
      "source": [
        "BASIC EXPLORATIONS"
      ],
      "metadata": {
        "id": "PihnvDUAXxDf"
      }
    },
    {
      "cell_type": "code",
      "source": [
        "print(df.head(15))\n",
        "\n",
        "# Weekday W\n",
        "# Holidays A\n",
        "# Weekends U"
      ],
      "metadata": {
        "colab": {
          "base_uri": "https://localhost:8080/"
        },
        "id": "QwLZdp1SXzwH",
        "outputId": "a9bc158c-056b-4b52-c59b-712fc003a8cf"
      },
      "execution_count": null,
      "outputs": [
        {
          "output_type": "stream",
          "name": "stdout",
          "text": [
            "    station_id               stationname        date daytype  rides\n",
            "0        41280            Jefferson Park  12/22/2017       W   6104\n",
            "1        41000          Cermak-Chinatown  12/18/2017       W   3636\n",
            "2        40280              Central-Lake  12/02/2017       A   1270\n",
            "3        40140           Dempster-Skokie  12/19/2017       W   1759\n",
            "4        40690                  Dempster  12/03/2017       U    499\n",
            "5        41660                Lake/State  12/30/2017       A   8615\n",
            "6        40180      Oak Park-Forest Park  12/17/2017       U    442\n",
            "7        40250  Kedzie-Homan-Forest Park  12/02/2017       A   1353\n",
            "8        40120               35th/Archer  12/07/2017       W   3353\n",
            "9        41420        Addison-North Main  12/19/2017       W   6034\n",
            "10       40270                      Main  12/16/2017       A    887\n",
            "11       41450             Chicago/State  12/27/2017       W   9639\n",
            "12       41210                Wellington  12/07/2017       W   3210\n",
            "13       40010        Austin-Forest Park  12/03/2017       U    641\n",
            "14       41160              Clinton-Lake  12/31/2017       U    621\n"
          ]
        }
      ]
    },
    {
      "cell_type": "code",
      "source": [
        "print(df.shape)"
      ],
      "metadata": {
        "colab": {
          "base_uri": "https://localhost:8080/"
        },
        "id": "zvcRJrkeYNP4",
        "outputId": "b4ed6177-05ce-42fb-86ef-582e5dc50824"
      },
      "execution_count": null,
      "outputs": [
        {
          "output_type": "stream",
          "name": "stdout",
          "text": [
            "(1158456, 5)\n"
          ]
        }
      ]
    },
    {
      "cell_type": "code",
      "source": [
        "print(df.describe())\n",
        "# Some basic statistics: There is a station with no rides (minimum is zero!). \n",
        "# Also, the station with the maximum number of rides appears to be about 10x the mean and median. \n",
        "#                                                          Let's have a look at what those stations are.\n"
      ],
      "metadata": {
        "colab": {
          "base_uri": "https://localhost:8080/"
        },
        "id": "GhvDx1faY-F8",
        "outputId": "7614a0e3-92ee-4c77-aba4-684b0d917f3e"
      },
      "execution_count": null,
      "outputs": [
        {
          "output_type": "stream",
          "name": "stdout",
          "text": [
            "         station_id         rides\n",
            "count  1.158456e+06  1.158456e+06\n",
            "mean   4.076671e+04  3.041143e+03\n",
            "std    4.491984e+02  3.108889e+03\n",
            "min    4.001000e+04  0.000000e+00\n",
            "25%    4.037000e+04  9.570000e+02\n",
            "50%    4.076000e+04  1.990000e+03\n",
            "75%    4.115000e+04  4.004000e+03\n",
            "max    4.170000e+04  3.632300e+04\n"
          ]
        }
      ]
    },
    {
      "cell_type": "code",
      "source": [
        "print(df['stationname'].value_counts())"
      ],
      "metadata": {
        "colab": {
          "base_uri": "https://localhost:8080/"
        },
        "id": "8OyYtektZYkJ",
        "outputId": "20a24221-67bf-455b-dfe6-de6610c136db"
      },
      "execution_count": null,
      "outputs": [
        {
          "output_type": "stream",
          "name": "stdout",
          "text": [
            "Racine                    8145\n",
            "Montrose-Brown            8143\n",
            "Western-Forest Park       8142\n",
            "Monroe/Dearborn           8142\n",
            "Montrose-O'Hare           8141\n",
            "                          ... \n",
            "Morgan-Lake               3987\n",
            "Cermak-McCormick Place    3012\n",
            "Washington/State          2953\n",
            "Washington/Wabash         2069\n",
            "Homan                       31\n",
            "Name: stationname, Length: 148, dtype: int64\n"
          ]
        }
      ]
    },
    {
      "cell_type": "markdown",
      "source": [
        "Selection Based on Conditionals\n",
        "\n",
        "Let's see which stations have the most and fewest rides, overall, and for particular types of days.\n"
      ],
      "metadata": {
        "id": "XW-ynV5caQ6P"
      }
    },
    {
      "cell_type": "code",
      "source": [
        "# Station with the most rides\n",
        "mostRides=max(df['rides'])\n",
        "print(mostRides)\n",
        "print(type(mostRides))\n",
        "print(df[df['rides']==mostRides])"
      ],
      "metadata": {
        "colab": {
          "base_uri": "https://localhost:8080/"
        },
        "id": "5rWeo6AbaRhT",
        "outputId": "3fc756ff-73a3-4490-9e4d-a77786b3fcba"
      },
      "execution_count": null,
      "outputs": [
        {
          "output_type": "stream",
          "name": "stdout",
          "text": [
            "36323\n",
            "<class 'int'>\n",
            "        station_id         stationname        date daytype  rides\n",
            "912644       41320  Belmont-North Main  06/28/2015       U  36323\n"
          ]
        }
      ]
    },
    {
      "cell_type": "markdown",
      "source": [
        "Station with the Least Rides"
      ],
      "metadata": {
        "id": "eBMXMluMeh2l"
      }
    },
    {
      "cell_type": "code",
      "source": [
        "leastRides=min(df['rides'])\n",
        "print(leastRides)\n",
        "print(type(leastRides))\n",
        "print('--------------')\n",
        "# print(df[df['rides']==leastRides])\n",
        "print(df[df['rides']==leastRides].shape)\n",
        "\n",
        "print('--------------')\n",
        "print(df[df['rides']==leastRides].head(5))\n",
        "# print(df[df['rides']==0].shape)"
      ],
      "metadata": {
        "colab": {
          "base_uri": "https://localhost:8080/"
        },
        "id": "T8VuV3u7ei8E",
        "outputId": "23d8a97d-7d10-4fc3-9d88-d864f39e779a"
      },
      "execution_count": null,
      "outputs": [
        {
          "output_type": "stream",
          "name": "stdout",
          "text": [
            "0\n",
            "<class 'int'>\n",
            "--------------\n",
            "(13610, 5)\n",
            "--------------\n",
            "     station_id      stationname        date daytype  rides\n",
            "23        40200  Randolph/Wabash  12/25/2017       U      0\n",
            "110       40640   Madison/Wabash  12/05/2017       W      0\n",
            "333       40640   Madison/Wabash  12/03/2017       U      0\n",
            "354       40640   Madison/Wabash  12/11/2017       W      0\n",
            "423       40640   Madison/Wabash  12/30/2017       A      0\n"
          ]
        }
      ]
    },
    {
      "cell_type": "markdown",
      "source": [
        "Looks like a lot of weekends and holidays. We can group by columns and types to get a better understanding of what might be going on. We can count how many dates a station had zero rides in the dataset and sort these in descending order.\n"
      ],
      "metadata": {
        "id": "lAn5FrAQfij8"
      }
    },
    {
      "cell_type": "code",
      "source": [
        "zero = df[df['rides'] == 0]\n",
        "zerogroup = zero.groupby(['stationname','daytype']).count()\n",
        "newDf=zerogroup.sort_values(by=['date'],ascending=False)\n",
        "print(newDf.head(5))"
      ],
      "metadata": {
        "colab": {
          "base_uri": "https://localhost:8080/"
        },
        "id": "KaF7LKiFfji6",
        "outputId": "7f79e06e-d777-4327-c0a4-f88a048ff3da"
      },
      "execution_count": null,
      "outputs": [
        {
          "output_type": "stream",
          "name": "stdout",
          "text": [
            "                          station_id  date  rides\n",
            "stationname      daytype                         \n",
            "Madison/Wabash   W               711   711    711\n",
            "Washington/State W               516   516    516\n",
            "Berwyn           W               504   504    504\n",
            "Lawrence         W               504   504    504\n",
            "Skokie           U               390   390    390\n"
          ]
        }
      ]
    },
    {
      "cell_type": "code",
      "source": [],
      "metadata": {
        "id": "RiWXpaxkjXem"
      },
      "execution_count": null,
      "outputs": []
    },
    {
      "cell_type": "code",
      "source": [],
      "metadata": {
        "id": "HdaqMIyIifUg"
      },
      "execution_count": null,
      "outputs": []
    }
  ]
}