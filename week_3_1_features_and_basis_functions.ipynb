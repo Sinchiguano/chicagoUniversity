{
  "nbformat": 4,
  "nbformat_minor": 0,
  "metadata": {
    "colab": {
      "provenance": [],
      "authorship_tag": "ABX9TyM9QK7hmHTNzxyszoavDJwC",
      "include_colab_link": true
    },
    "kernelspec": {
      "name": "python3",
      "display_name": "Python 3"
    },
    "language_info": {
      "name": "python"
    }
  },
  "cells": [
    {
      "cell_type": "markdown",
      "metadata": {
        "id": "view-in-github",
        "colab_type": "text"
      },
      "source": [
        "<a href=\"https://colab.research.google.com/github/Sinchiguano/chicagoUniversity/blob/main/week_3_1_features_and_basis_functions.ipynb\" target=\"_parent\"><img src=\"https://colab.research.google.com/assets/colab-badge.svg\" alt=\"Open In Colab\"/></a>"
      ]
    },
    {
      "cell_type": "code",
      "execution_count": 8,
      "metadata": {
        "colab": {
          "base_uri": "https://localhost:8080/"
        },
        "id": "vtg_yJntJHiU",
        "outputId": "4f6f6eb5-1450-4a53-90c8-46c517f7610a"
      },
      "outputs": [
        {
          "output_type": "stream",
          "name": "stdout",
          "text": [
            "   year  location       first   last           title    gross  regular  \\\n",
            "0  2015  Berkeley        ANNE  AABOE   BUS SYS ANL 4  124,454  124,454   \n",
            "1  2015  Berkeley       DAVID  AAKER  RECALL FACULTY    2,500        0   \n",
            "2  2015  Berkeley   ELIZABETH   ABEL         PROF-AY  138,775  138,775   \n",
            "\n",
            "  overtime  other  \n",
            "0        0      0  \n",
            "1        0  2,500  \n",
            "2        0      0  \n",
            "object\n",
            "//////////////////////////////\n",
            "int64\n"
          ]
        }
      ],
      "source": [
        "# from sklearn.linear_model import LinearRegression\n",
        "# import numpy as np\n",
        "# import matplotlib.pyplot as plt\n",
        "\n",
        "# import seaborn as sns\n",
        "\n",
        "\n",
        "import pandas as pd\n",
        "\n",
        "url='https://raw.githubusercontent.com/Sinchiguano/chicagoUniversity/main/salary_2015.csv'\n",
        "df = pd.read_csv(url)\n",
        "\n",
        "print(df.head(3))\n",
        "print(df['gross'].dtypes)\n",
        "\n",
        "\n",
        "print('//////////////////////////////')\n",
        "\n",
        "df['gross'] = df['gross'].str.replace(',', '')\n",
        "df['gross'] = df['gross'].astype(int)\n",
        "print(df['gross'].dtypes)\n"
      ]
    },
    {
      "cell_type": "code",
      "source": [
        "from re import M\n",
        "meanSalaries=pd.DataFrame(df.groupby('title')['gross'].mean().reset_index(name='mean').sort_values(['mean'],ascending=False))\n",
        "print(meanSalaries.head(6))\n",
        "print(meanSalaries.shape)\n",
        "print(meanSalaries.dtypes)\n",
        "print(type(meanSalaries))\n",
        "\n",
        "\n",
        "\n",
        "print('//////////////////////////////')\n",
        "# meanSalaries=pd.DataFrame(df.groupby(['title'])['gross'].mean())\n",
        "# print(meanSalaries.head(3))\n",
        "# print(meanSalaries.shape)\n",
        "# print(meanSalaries.dtypes)\n"
      ],
      "metadata": {
        "colab": {
          "base_uri": "https://localhost:8080/"
        },
        "id": "fYLl3kNFKa46",
        "outputId": "534336ca-77a5-42dd-a426-2e038b9bd990"
      },
      "execution_count": 22,
      "outputs": [
        {
          "output_type": "stream",
          "name": "stdout",
          "text": [
            "                               title       mean\n",
            "594                     CHF INV OFCR  1106688.0\n",
            "2624  SR MGN DIR FIXED INCOME ASSETS  1016853.0\n",
            "583                      CEO MED CTR   910590.0\n",
            "1185               EXEC VP UC HEALTH   786745.0\n",
            "2958                 VC AND DEAN SOM   634752.0\n",
            "827                      COO MED CTR   609592.2\n",
            "(3052, 2)\n",
            "title     object\n",
            "mean     float64\n",
            "dtype: object\n",
            "<class 'pandas.core.frame.DataFrame'>\n",
            "//////////////////////////////\n"
          ]
        }
      ]
    },
    {
      "cell_type": "code",
      "source": [],
      "metadata": {
        "id": "nFY82Tw8MAlP"
      },
      "execution_count": null,
      "outputs": []
    }
  ]
}