{
<<<<<<< HEAD
 "cells": [
  {
   "cell_type": "markdown",
   "metadata": {
    "colab_type": "text",
    "id": "view-in-github"
   },
   "source": [
    "<a href=\"https://colab.research.google.com/github/Sinchiguano/chicagoUniversity/blob/main/nonLinearDataSet.ipynb\" target=\"_parent\"><img src=\"https://colab.research.google.com/assets/colab-badge.svg\" alt=\"Open In Colab\"/></a>"
   ]
=======
  "nbformat": 4,
  "nbformat_minor": 0,
  "metadata": {
    "colab": {
      "provenance": [],
      "authorship_tag": "ABX9TyPUBjPRmLutkcL8QEnk0WYV",
      "include_colab_link": true
    },
    "kernelspec": {
      "name": "python3",
      "display_name": "Python 3"
    },
    "language_info": {
      "name": "python"
    }
>>>>>>> 0a9cd15aee79a5a206bd555309906fff5f245f1a
  },
  {
   "cell_type": "code",
   "execution_count": 1,
   "metadata": {
    "id": "IMI4grg01aqx"
   },
   "outputs": [],
   "source": [
    "from sklearn.linear_model import LinearRegression\n",
    "import numpy as np\n",
    "import matplotlib.pyplot as plt\n",
    "import pandas as pd\n",
    "import seaborn as sns"
   ]
  },
  {
   "cell_type": "code",
   "execution_count": 4,
   "metadata": {
    "colab": {
     "base_uri": "https://localhost:8080/"
    },
    "id": "_zernm4s1xUm",
    "outputId": "f68b2828-b6f8-4709-f633-1fb4d222c779"
   },
   "outputs": [
    {
<<<<<<< HEAD
     "name": "stdout",
     "output_type": "stream",
     "text": [
      "   year  location       first        last                  title    gross  \\\n",
      "0  2015  Berkeley        ANNE       AABOE          BUS SYS ANL 4  124,454   \n",
      "1  2015  Berkeley       DAVID       AAKER         RECALL FACULTY    2,500   \n",
      "2  2015  Berkeley   ELIZABETH        ABEL                PROF-AY  138,775   \n",
      "3  2015  Berkeley      NORMAN  ABRAHAMSON  ADJ PROF-AY-1/9-B/E/E   19,668   \n",
      "4  2015  Berkeley     BARBARA      ABRAMS                PROF-AY  191,162   \n",
      "\n",
      "   regular overtime   other  \n",
      "0  124,454        0       0  \n",
      "1        0        0   2,500  \n",
      "2  138,775        0       0  \n",
      "3   19,668        0       0  \n",
      "4  169,862        0  21,300  \n",
      "year         int64\n",
      "location    object\n",
      "first       object\n",
      "last        object\n",
      "title       object\n",
      "gross       object\n",
      "regular     object\n",
      "overtime    object\n",
      "other       object\n",
      "dtype: object\n"
     ]
=======
      "cell_type": "code",
      "execution_count": 22,
      "metadata": {
        "id": "IMI4grg01aqx"
      },
      "outputs": [],
      "source": [
        "from sklearn.linear_model import LinearRegression\n",
        "import numpy as np\n",
        "import matplotlib.pyplot as plt\n",
        "import pandas as pd\n",
        "\n"
      ]
    },
    {
      "cell_type": "code",
      "source": [
        "\n",
        "# ctrl + / in order to comment\n",
        "import pandas as pd\n",
        "from google.colab import files\n",
        "url = 'https://raw.githubusercontent.com/Sinchiguano/chicagoUniversity/main/salary_2015.csv'\n",
        "df = pd.read_csv(url)\n",
        "print(df.head(5))\n",
        "print(df.dtypes)\n"
      ],
      "metadata": {
        "colab": {
          "base_uri": "https://localhost:8080/"
        },
        "id": "_zernm4s1xUm",
        "outputId": "76920c85-0486-496d-f910-9f050a8205a0"
      },
      "execution_count": 23,
      "outputs": [
        {
          "output_type": "stream",
          "name": "stdout",
          "text": [
            "   year  location       first        last                  title    gross  \\\n",
            "0  2015  Berkeley        ANNE       AABOE          BUS SYS ANL 4  124,454   \n",
            "1  2015  Berkeley       DAVID       AAKER         RECALL FACULTY    2,500   \n",
            "2  2015  Berkeley   ELIZABETH        ABEL                PROF-AY  138,775   \n",
            "3  2015  Berkeley      NORMAN  ABRAHAMSON  ADJ PROF-AY-1/9-B/E/E   19,668   \n",
            "4  2015  Berkeley     BARBARA      ABRAMS                PROF-AY  191,162   \n",
            "\n",
            "   regular overtime   other  \n",
            "0  124,454        0       0  \n",
            "1        0        0   2,500  \n",
            "2  138,775        0       0  \n",
            "3   19,668        0       0  \n",
            "4  169,862        0  21,300  \n",
            "year         int64\n",
            "location    object\n",
            "first       object\n",
            "last        object\n",
            "title       object\n",
            "gross       object\n",
            "regular     object\n",
            "overtime    object\n",
            "other       object\n",
            "dtype: object\n"
          ]
        }
      ]
    },
    {
      "cell_type": "code",
      "source": [
        "df['gross'] = df['gross'].str.replace(',', '')\n",
        "df['gross'] = df['gross'].astype(int)\n",
        "df.head(5)\n",
        "df.dtypes"
      ],
      "metadata": {
        "id": "ZecpF0vSAqrK",
        "colab": {
          "base_uri": "https://localhost:8080/"
        },
        "outputId": "68417e04-2c0d-416c-c2e8-8deac404a795"
      },
      "execution_count": 24,
      "outputs": [
        {
          "output_type": "execute_result",
          "data": {
            "text/plain": [
              "year         int64\n",
              "location    object\n",
              "first       object\n",
              "last        object\n",
              "title       object\n",
              "gross        int64\n",
              "regular     object\n",
              "overtime    object\n",
              "other       object\n",
              "dtype: object"
            ]
          },
          "metadata": {},
          "execution_count": 24
        }
      ]
    },
    {
      "cell_type": "code",
      "source": [
        "print(df.head(23))"
      ],
      "metadata": {
        "colab": {
          "base_uri": "https://localhost:8080/"
        },
        "id": "087VSw1zHFyq",
        "outputId": "f0ee3fd2-8bb3-4581-da9b-dcbfdbd79fa0"
      },
      "execution_count": 25,
      "outputs": [
        {
          "output_type": "stream",
          "name": "stdout",
          "text": [
            "    year  location       first        last                  title   gross  \\\n",
            "0   2015  Berkeley        ANNE       AABOE          BUS SYS ANL 4  124454   \n",
            "1   2015  Berkeley       DAVID       AAKER         RECALL FACULTY    2500   \n",
            "2   2015  Berkeley   ELIZABETH        ABEL                PROF-AY  138775   \n",
            "3   2015  Berkeley      NORMAN  ABRAHAMSON  ADJ PROF-AY-1/9-B/E/E   19668   \n",
            "4   2015  Berkeley     BARBARA      ABRAMS                PROF-AY  191162   \n",
            "5   2015  Berkeley        JOHN       ACZON    FINANCIAL SVC ANL 3   83510   \n",
            "6   2015  Berkeley     ANTHONY       ADAMS                 RES-FY    9587   \n",
            "7   2015  Berkeley       PENNY       HINES          ACAD HR ANL 5  126707   \n",
            "8   2015  Berkeley    ANINDITA    ADHIKARI         SR LECT SOE-AY  107345   \n",
            "9   2015  Berkeley        ILAN       ADLER          PROF-AY-B/E/E  166617   \n",
            "10  2015  Berkeley       VINOD    AGGARWAL                PROF-AY  167525   \n",
            "11  2015  Berkeley       ALICE     AGOGINO          PROF-AY-B/E/E  243259   \n",
            "12  2015  Berkeley        JOHN       AGRAZ             DEV TCHN 3     363   \n",
            "13  2015  Berkeley         ADA     AGUILAR   PROJECT POLICY ANL 2   59072   \n",
            "14  2015  Berkeley        AMOR       AGUON     COMPENSATION ANL 4  101639   \n",
            "15  2015  Berkeley      GEORGE     AKERLOF         RECALL FACULTY   47990   \n",
            "16  2015  Berkeley       MITRA     AKHTARI              SRA 2 NEX   43832   \n",
            "17  2015  Berkeley       DIANE      MILANO          EVENTS SPEC 3   49381   \n",
            "18  2015  Berkeley       CRAIG    ALDERSON          LIBRARY AST 4   27605   \n",
            "19  2015  Berkeley       DAVID      ALDOUS                PROF-AY  218666   \n",
            "20  2015  Berkeley     RONELLE   ALEXANDER                PROF-AY  167642   \n",
            "21  2015  Berkeley       ROSIA   ALEXANDER              SYS ADM 3   80964   \n",
            "22  2015  Berkeley     SAUNDRA   ALEXANDER    FINANCIAL SVC ANL 3   69274   \n",
            "\n",
            "    regular overtime   other  \n",
            "0   124,454        0       0  \n",
            "1         0        0   2,500  \n",
            "2   138,775        0       0  \n",
            "3    19,668        0       0  \n",
            "4   169,862        0  21,300  \n",
            "5    78,510        0   5,000  \n",
            "6     9,587        0       0  \n",
            "7   126,707        0       0  \n",
            "8   107,345        0       0  \n",
            "9   151,617        0  15,000  \n",
            "10  167,525        0       0  \n",
            "11  203,150        0  40,109  \n",
            "12      363        0       0  \n",
            "13   59,072        0       0  \n",
            "14  101,139        0     500  \n",
            "15        0        0  47,990  \n",
            "16   43,832        0       0  \n",
            "17   49,381        0       0  \n",
            "18   27,605        0       0  \n",
            "19  183,225        0  35,441  \n",
            "20  167,642        0       0  \n",
            "21   80,964        0       0  \n",
            "22   67,274        0   2,000  \n"
          ]
        }
      ]
    },
    {
      "cell_type": "code",
      "source": [
        "# print(df.tail(20))\n",
        "print('********************')\n",
        "# mean_salaries=pd.DataFrame(df.groupby('title')['gross'].count())\n",
        "# print(mean_salaries.head(5))\n",
        "\n",
        "# mean_salaries=pd.DataFrame(df.groupby('title')['gross'].mean())\n",
        "# print(mean_salaries.head(5))\n",
        "\n",
        "# mean_salaries=pd.DataFrame(df.groupby('title')['gross'].mean().reset_index())\n",
        "# print(mean_salaries.head(5))\n",
        "\n",
        "# mean_salaries=pd.DataFrame(df.groupby('title')['gross'].count().reset_index(name='countValue'))\n",
        "# print(mean_salaries.head(5))\n",
        "\n",
        "mean_salaries=pd.DataFrame(df.groupby('title')['gross'].mean().reset_index(name='meanValue').sort_values(['meanValue'],ascending=False))\n",
        "print(mean_salaries.head(20))\n",
        "\n",
        "\n",
        "\n"
      ],
      "metadata": {
        "colab": {
          "base_uri": "https://localhost:8080/"
        },
        "id": "OiU9SjglHuwz",
        "outputId": "282584eb-7c71-4e08-b0c1-e363a8826104"
      },
      "execution_count": 26,
      "outputs": [
        {
          "output_type": "stream",
          "name": "stdout",
          "text": [
            "********************\n",
            "                               title  meanValue\n",
            "594                     CHF INV OFCR  1106688.0\n",
            "2624  SR MGN DIR FIXED INCOME ASSETS  1016853.0\n",
            "583                      CEO MED CTR   910590.0\n",
            "1185               EXEC VP UC HEALTH   786745.0\n",
            "2958                 VC AND DEAN SOM   634752.0\n",
            "827                      COO MED CTR   609592.2\n",
            "2193           PRESIDENT OF THE UNIV   584503.0\n",
            "584        CFO HEALTH SYS AND CAMPUS   551574.0\n",
            "711                      CMO MED CTR   542879.0\n",
            "2579           SENATE EMERITUS (WOS)   538834.0\n",
            "2206            PRIVATE EQUITY MGR 3   531622.0\n",
            "585                      CFO MED CTR   508562.6\n",
            "2331             PUBL EQUITY INV DIR   477113.0\n",
            "587                             CHAN   474289.2\n",
            "1         ABSOLUTE RETURNS INV MGR 3   472294.0\n",
            "2409           REAL ESTATE INV MGR 3   469893.0\n",
            "1357    GEN COUNSEL VP LEGAL AFFAIRS   442007.0\n",
            "2812                        SVP CCAO   430555.0\n",
            "277                       ASC VP CPO   427877.5\n",
            "1296            FIXED INCOME INV DIR   425174.4\n"
          ]
        }
      ]
    },
    {
      "cell_type": "code",
      "source": [
        "df['title']=df['title'].str.replace('.*C[EFM]O.*','C-SUITE')\n",
        "print(df['title'].head(3))\n",
        "print(df.shape)\n",
        "print('***************************')\n",
        "msdf=pd.DataFrame(df.groupby('title')['gross'].count().reset_index(name='counter').sort_values(['counter'],ascending=False))\n",
        "print(msdf.head(6))"
      ],
      "metadata": {
        "id": "9rdb0pNUOjYZ",
        "outputId": "ab5d2596-786c-4ba9-9499-016e0505fed7",
        "colab": {
          "base_uri": "https://localhost:8080/"
        }
      },
      "execution_count": 28,
      "outputs": [
        {
          "output_type": "stream",
          "name": "stderr",
          "text": [
            "<ipython-input-28-82de5e330c55>:1: FutureWarning: The default value of regex will change from True to False in a future version.\n",
            "  df['title']=df['title'].str.replace('.*C[EFM]O.*','C-SUITE')\n"
          ]
        },
        {
          "output_type": "stream",
          "name": "stdout",
          "text": [
            "0     BUS SYS ANL 4\n",
            "1    RECALL FACULTY\n",
            "2           PROF-AY\n",
            "Name: title, dtype: object\n",
            "(281514, 9)\n",
            "***************************\n",
            "                  title  counter\n",
            "2653             STDT 2    14914\n",
            "2661             STDT 4    13128\n",
            "2870  TEACHG ASST-GSHIP    12964\n",
            "2657             STDT 3    10669\n",
            "2650             STDT 1    10665\n",
            "669        CLIN NURSE 2     8574\n"
          ]
        }
      ]
    },
    {
      "cell_type": "code",
      "source": [
        "titles = [\n",
        "          'C-SUITE',\n",
        "          'PROF-AY-LAW', \n",
        "          'ASST PROF-AY', 'ASSOC PROF-AY', 'PROF-AY',\n",
        "          'ASST ADJ PROF-AY', 'ASSOC ADJ PROF-AY', 'ADJ PROF-AY',  'ACT ASST PROF-AY', \n",
        "          'PROF-AY-B/E/E', 'ASSOC PROF-AY-B/E/E', 'ASST PROF-AY-B/E/E'\n",
        "         ]\n",
        "mask=df['title'].isin(titles)\n",
        "# print(type(mask))\n",
        "# print(mask.head(6))\n",
        "# print(mask.shape)\n",
        "print(df.shape)\n",
        "df_profs = df[mask]\n",
        "print(df_profs.shape)\n",
        "# df_index=df_profs.groupby('title').median()['gross'].sort_values().index\n",
        "df_index=df_profs.groupby('title')['gross'].median().sort_values().index\n",
        "\n",
        "# print(df_profs.head(6))\n",
        "\n",
        "\n",
        "# print(df_profs.groupby('title').median()['gross'].head(10))\n",
        "# print(df_profs.groupby('title')['gross'].median().head(10))\n",
        "\n",
        "\n",
        "# print(type(df_index))\n",
        "# print(df_index.values)\n",
        "print('************')\n",
        "import seaborn as sns\n",
        "sns.set(rc={'figure.figsize':(11,4)})\n",
        "ax=sns.boxplot(x='title',y='gross',data=df_profs, order=df_index)\n",
        "ax.set_xticklabels(ax.get_xticklabels(),rotation=90)"
      ],
      "metadata": {
        "id": "L8vGo-T63756",
        "outputId": "23cd1112-b54a-4ab6-b913-97d3817c24fd",
        "colab": {
          "base_uri": "https://localhost:8080/",
          "height": 823
        }
      },
      "execution_count": 71,
      "outputs": [
        {
          "output_type": "stream",
          "name": "stdout",
          "text": [
            "(281514, 9)\n",
            "(7982, 9)\n",
            "************\n"
          ]
        },
        {
          "output_type": "execute_result",
          "data": {
            "text/plain": [
              "[Text(0, 0, 'ACT ASST PROF-AY'),\n",
              " Text(1, 0, 'ASST ADJ PROF-AY'),\n",
              " Text(2, 0, 'ASSOC ADJ PROF-AY'),\n",
              " Text(3, 0, 'ADJ PROF-AY'),\n",
              " Text(4, 0, 'ASST PROF-AY'),\n",
              " Text(5, 0, 'ASSOC PROF-AY'),\n",
              " Text(6, 0, 'ASST PROF-AY-B/E/E'),\n",
              " Text(7, 0, 'ASSOC PROF-AY-B/E/E'),\n",
              " Text(8, 0, 'PROF-AY'),\n",
              " Text(9, 0, 'PROF-AY-B/E/E'),\n",
              " Text(10, 0, 'PROF-AY-LAW'),\n",
              " Text(11, 0, 'C-SUITE')]"
            ]
          },
          "metadata": {},
          "execution_count": 71
        },
        {
          "output_type": "display_data",
          "data": {
            "text/plain": [
              "<Figure size 1100x400 with 1 Axes>"
            ],
            "image/png": "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\n"
          },
          "metadata": {}
        }
      ]
    },
    {
      "cell_type": "code",
      "source": [
        "#LINEAR REGRESdf\n",
        "\n",
        "\n",
        "# print('---------------------------------------------')\n",
        "# df_median=pd.DataFrame(df_profs.groupby('title')['gross'].median().reset_index(name='median').sort_values(['median'],ascending=True))\n",
        "# print(df_median.head(6))\n",
        "\n",
        "\n",
        "# print('---------------------------------------------')\n",
        "# df_median=pd.DataFrame(df_profs.groupby('title')['gross'].median().reset_index(name='gross').sort_values(['gross'],ascending=True))\n",
        "# print(df_median.head(6))\n",
        "\n",
        "\n",
        "\n",
        "#DEFINING FEATURES AND TARGETS\n",
        "print('---------------------------------------------')\n",
        "df_median=pd.DataFrame(df_profs.groupby('title')['gross'].median().sort_values())\n",
        "# print(df_median.head(6))\n",
        "df_median.reset_index(inplace=True)\n",
        "print(df_median.head(6))\n",
        "\n",
        "# print('---------------------------------------------')\n",
        "\n",
        "# df_median=pd.DataFrame(df_profs.groupby('title')['gross'].median().reset_index(name='gross').sort_values(['gross'],ascending=True))\n",
        "# print(df_median.head(6))\n",
        "\n",
        "\n",
        "print('---------------------------------------------')\n",
        "features=df_median.index.values.reshape(-1,1)\n",
        "\n",
        "print(features.shape)\n",
        "\n",
        "# print(features[:5])\n",
        "# print(features.shape)\n",
        "# # features.reshape(-1,1)\n",
        "# print(features.reshape(-1,1).shape)\n",
        "# print(features.shape)\n",
        "target=df_median.loc[:,'gross']\n",
        "# print(target.shape)\n",
        "\n",
        "\n",
        "print('---------------------------------------------')\n",
        "#POLYNOMIAL FEATURES\n",
        "from sklearn.preprocessing import PolynomialFeatures\n",
        "poly=PolynomialFeatures(degree=3, include_bias=False)\n",
        "pf=poly.fit_transform(features)\n",
        "print(pf[:6])"
      ],
      "metadata": {
        "id": "m66oBJTNBJt4",
        "outputId": "2dfe8787-0747-4923-a401-2af41272dfad",
        "colab": {
          "base_uri": "https://localhost:8080/"
        }
      },
      "execution_count": 139,
      "outputs": [
        {
          "output_type": "stream",
          "name": "stdout",
          "text": [
            "---------------------------------------------\n",
            "               title     gross\n",
            "0   ACT ASST PROF-AY   34667.0\n",
            "1   ASST ADJ PROF-AY   35985.0\n",
            "2  ASSOC ADJ PROF-AY   52883.0\n",
            "3        ADJ PROF-AY   66467.0\n",
            "4       ASST PROF-AY   85943.0\n",
            "5      ASSOC PROF-AY  100117.0\n",
            "---------------------------------------------\n",
            "(12, 1)\n",
            "---------------------------------------------\n",
            "[[  0.   0.   0.]\n",
            " [  1.   1.   1.]\n",
            " [  2.   4.   8.]\n",
            " [  3.   9.  27.]\n",
            " [  4.  16.  64.]\n",
            " [  5.  25. 125.]]\n"
          ]
        }
      ]
    },
    {
      "cell_type": "code",
      "source": [
        "model1=LinearRegression()\n",
        "model1.fit(features, target)\n",
        "y1_hat=model1.predict(features)\n",
        "\n",
        "\n",
        "\n",
        "model2=LinearRegression()\n",
        "model2.fit(pf, target)\n",
        "y2_hat=model2.predict(pf)"
      ],
      "metadata": {
        "id": "rSIVqwkaO8QC"
      },
      "execution_count": 140,
      "outputs": []
    },
    {
      "cell_type": "code",
      "source": [
        "plt.plot(features, target,'.', markersize=12)\n",
        "\n",
        "\n",
        "plt.plot(features,y1_hat,color='red',linewidth=3)\n",
        "\n",
        "plt.plot(features,y2_hat,color='green',linewidth=2)\n",
        "\n"
      ],
      "metadata": {
        "id": "tc313R6aEsUN",
        "outputId": "ed5e1eb9-e4fe-4227-b6ab-417d81b62924",
        "colab": {
          "base_uri": "https://localhost:8080/",
          "height": 390
        }
      },
      "execution_count": 141,
      "outputs": [
        {
          "output_type": "execute_result",
          "data": {
            "text/plain": [
              "[<matplotlib.lines.Line2D at 0x7f59bb7f8ac0>]"
            ]
          },
          "metadata": {},
          "execution_count": 141
        },
        {
          "output_type": "display_data",
          "data": {
            "text/plain": [
              "<Figure size 1100x400 with 1 Axes>"
            ],
            "image/png": "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\n"
          },
          "metadata": {}
        }
      ]
    },
    {
      "cell_type": "code",
      "source": [
        "from sklearn.metrics import mean_squared_error\n",
        "\n",
        "print(\"\"\"\n",
        "RSS Linear Features:\\t\\t{}\n",
        "RSS Polynomial Feautres:\\t{}\n",
        "\"\"\".format(\n",
        "            np.sqrt(mean_squared_error(target, y1_hat)),\n",
        "            np.sqrt(mean_squared_error(target, y2_hat)\n",
        "                   )))\n",
        "\n",
        "'''\n",
        "The residual sum of squares (RSS) measures the level of variance in the error term, or residuals, of a regression model. The smaller the residual sum of squares, the better your model fits your data;\n",
        "'''"
      ],
      "metadata": {
        "id": "d3YjwZdYRMEy",
        "outputId": "ef116b95-497e-495e-c5d7-3e5a842e04f6",
        "colab": {
          "base_uri": "https://localhost:8080/",
          "height": 122
        }
      },
      "execution_count": 146,
      "outputs": [
        {
          "output_type": "stream",
          "name": "stdout",
          "text": [
            "\n",
            "RSS Linear Features:\t\t66473.79060403422\n",
            "RSS Polynomial Feautres:\t28001.055567797026\n",
            "\n"
          ]
        },
        {
          "output_type": "execute_result",
          "data": {
            "text/plain": [
              "'\\nThe residual sum of squares (RSS) measures the level of variance in the error term, or residuals, of a regression model. The smaller the residual sum of squares, the better your model fits your data;\\n'"
            ],
            "application/vnd.google.colaboratory.intrinsic+json": {
              "type": "string"
            }
          },
          "metadata": {},
          "execution_count": 146
        }
      ]
>>>>>>> 0a9cd15aee79a5a206bd555309906fff5f245f1a
    }
   ],
   "source": [
    "\n",
    "# ctrl + / in order to comment\n",
    "import pandas as pd\n",
    "# from google.colab import files\n",
    "url = 'https://raw.githubusercontent.com/Sinchiguano/chicagoUniversity/main/salary_2015.csv'\n",
    "df = pd.read_csv('salary_2015.csv')\n",
    "print(df.head(5))\n",
    "print(df.dtypes)\n"
   ]
  },
  {
   "cell_type": "code",
   "execution_count": 5,
   "metadata": {
    "colab": {
     "base_uri": "https://localhost:8080/"
    },
    "id": "vkIiwA6k3rMR",
    "outputId": "5d58d2a1-68a1-4d2a-d0f0-0506fee50967"
   },
   "outputs": [
    {
     "name": "stdout",
     "output_type": "stream",
     "text": [
      "           year\n",
      "count  281514.0\n",
      "mean     2015.0\n",
      "std         0.0\n",
      "min      2015.0\n",
      "25%      2015.0\n",
      "50%      2015.0\n",
      "75%      2015.0\n",
      "max      2015.0\n",
      "<class 'pandas.core.frame.DataFrame'>\n"
     ]
    }
   ],
   "source": [
    "print(df.describe())\n",
    "print(type(df))"
   ]
  },
  {
   "cell_type": "code",
   "execution_count": 15,
   "metadata": {
    "colab": {
     "base_uri": "https://localhost:8080/",
     "height": 556
    },
    "id": "5QINbPHP_iE9",
    "outputId": "15059a7c-a2b4-48f4-fa5d-b4d13ea7a161"
   },
   "outputs": [
    {
     "name": "stdout",
     "output_type": "stream",
     "text": [
      "year         int64\n",
      "location    object\n",
      "first       object\n",
      "last        object\n",
      "title       object\n",
      "gross       object\n",
      "regular     object\n",
      "overtime    object\n",
      "other       object\n",
      "dtype: object\n"
     ]
    },
    {
     "ename": "ValueError",
     "evalue": "invalid literal for int() with base 10: '124,454'",
     "output_type": "error",
     "traceback": [
      "\u001b[0;31m---------------------------------------------------------------------------\u001b[0m",
      "\u001b[0;31mValueError\u001b[0m                                Traceback (most recent call last)",
      "Cell \u001b[0;32mIn[15], line 5\u001b[0m\n\u001b[1;32m      1\u001b[0m \u001b[38;5;28mprint\u001b[39m(df\u001b[38;5;241m.\u001b[39mdtypes)\n\u001b[1;32m      2\u001b[0m \u001b[38;5;66;03m# print(df.head(2))\u001b[39;00m\n\u001b[1;32m      3\u001b[0m \u001b[38;5;66;03m#LOAD AND EXPLORE DE DATA\u001b[39;00m\n\u001b[1;32m      4\u001b[0m \u001b[38;5;66;03m# df['gross'] = df['gross'].str.replace(',', '')\u001b[39;00m\n\u001b[0;32m----> 5\u001b[0m df[\u001b[38;5;124m'\u001b[39m\u001b[38;5;124mgross\u001b[39m\u001b[38;5;124m'\u001b[39m]\u001b[38;5;241m=\u001b[39m\u001b[43mdf\u001b[49m\u001b[43m[\u001b[49m\u001b[38;5;124;43m'\u001b[39;49m\u001b[38;5;124;43mgross\u001b[39;49m\u001b[38;5;124;43m'\u001b[39;49m\u001b[43m]\u001b[49m\u001b[38;5;241;43m.\u001b[39;49m\u001b[43mastype\u001b[49m\u001b[43m(\u001b[49m\u001b[38;5;28;43mint\u001b[39;49m\u001b[43m)\u001b[49m\n\u001b[1;32m      6\u001b[0m \u001b[38;5;28mprint\u001b[39m(df\u001b[38;5;241m.\u001b[39mdtypes)\n",
      "File \u001b[0;32m~/anaconda3/lib/python3.9/site-packages/pandas/core/generic.py:5912\u001b[0m, in \u001b[0;36mNDFrame.astype\u001b[0;34m(self, dtype, copy, errors)\u001b[0m\n\u001b[1;32m   5905\u001b[0m     results \u001b[38;5;241m=\u001b[39m [\n\u001b[1;32m   5906\u001b[0m         \u001b[38;5;28mself\u001b[39m\u001b[38;5;241m.\u001b[39miloc[:, i]\u001b[38;5;241m.\u001b[39mastype(dtype, copy\u001b[38;5;241m=\u001b[39mcopy)\n\u001b[1;32m   5907\u001b[0m         \u001b[38;5;28;01mfor\u001b[39;00m i \u001b[38;5;129;01min\u001b[39;00m \u001b[38;5;28mrange\u001b[39m(\u001b[38;5;28mlen\u001b[39m(\u001b[38;5;28mself\u001b[39m\u001b[38;5;241m.\u001b[39mcolumns))\n\u001b[1;32m   5908\u001b[0m     ]\n\u001b[1;32m   5910\u001b[0m \u001b[38;5;28;01melse\u001b[39;00m:\n\u001b[1;32m   5911\u001b[0m     \u001b[38;5;66;03m# else, only a single dtype is given\u001b[39;00m\n\u001b[0;32m-> 5912\u001b[0m     new_data \u001b[38;5;241m=\u001b[39m \u001b[38;5;28;43mself\u001b[39;49m\u001b[38;5;241;43m.\u001b[39;49m\u001b[43m_mgr\u001b[49m\u001b[38;5;241;43m.\u001b[39;49m\u001b[43mastype\u001b[49m\u001b[43m(\u001b[49m\u001b[43mdtype\u001b[49m\u001b[38;5;241;43m=\u001b[39;49m\u001b[43mdtype\u001b[49m\u001b[43m,\u001b[49m\u001b[43m \u001b[49m\u001b[43mcopy\u001b[49m\u001b[38;5;241;43m=\u001b[39;49m\u001b[43mcopy\u001b[49m\u001b[43m,\u001b[49m\u001b[43m \u001b[49m\u001b[43merrors\u001b[49m\u001b[38;5;241;43m=\u001b[39;49m\u001b[43merrors\u001b[49m\u001b[43m)\u001b[49m\n\u001b[1;32m   5913\u001b[0m     \u001b[38;5;28;01mreturn\u001b[39;00m \u001b[38;5;28mself\u001b[39m\u001b[38;5;241m.\u001b[39m_constructor(new_data)\u001b[38;5;241m.\u001b[39m__finalize__(\u001b[38;5;28mself\u001b[39m, method\u001b[38;5;241m=\u001b[39m\u001b[38;5;124m\"\u001b[39m\u001b[38;5;124mastype\u001b[39m\u001b[38;5;124m\"\u001b[39m)\n\u001b[1;32m   5915\u001b[0m \u001b[38;5;66;03m# GH 33113: handle empty frame or series\u001b[39;00m\n",
      "File \u001b[0;32m~/anaconda3/lib/python3.9/site-packages/pandas/core/internals/managers.py:419\u001b[0m, in \u001b[0;36mBaseBlockManager.astype\u001b[0;34m(self, dtype, copy, errors)\u001b[0m\n\u001b[1;32m    418\u001b[0m \u001b[38;5;28;01mdef\u001b[39;00m \u001b[38;5;21mastype\u001b[39m(\u001b[38;5;28mself\u001b[39m: T, dtype, copy: \u001b[38;5;28mbool\u001b[39m \u001b[38;5;241m=\u001b[39m \u001b[38;5;28;01mFalse\u001b[39;00m, errors: \u001b[38;5;28mstr\u001b[39m \u001b[38;5;241m=\u001b[39m \u001b[38;5;124m\"\u001b[39m\u001b[38;5;124mraise\u001b[39m\u001b[38;5;124m\"\u001b[39m) \u001b[38;5;241m-\u001b[39m\u001b[38;5;241m>\u001b[39m T:\n\u001b[0;32m--> 419\u001b[0m     \u001b[38;5;28;01mreturn\u001b[39;00m \u001b[38;5;28;43mself\u001b[39;49m\u001b[38;5;241;43m.\u001b[39;49m\u001b[43mapply\u001b[49m\u001b[43m(\u001b[49m\u001b[38;5;124;43m\"\u001b[39;49m\u001b[38;5;124;43mastype\u001b[39;49m\u001b[38;5;124;43m\"\u001b[39;49m\u001b[43m,\u001b[49m\u001b[43m \u001b[49m\u001b[43mdtype\u001b[49m\u001b[38;5;241;43m=\u001b[39;49m\u001b[43mdtype\u001b[49m\u001b[43m,\u001b[49m\u001b[43m \u001b[49m\u001b[43mcopy\u001b[49m\u001b[38;5;241;43m=\u001b[39;49m\u001b[43mcopy\u001b[49m\u001b[43m,\u001b[49m\u001b[43m \u001b[49m\u001b[43merrors\u001b[49m\u001b[38;5;241;43m=\u001b[39;49m\u001b[43merrors\u001b[49m\u001b[43m)\u001b[49m\n",
      "File \u001b[0;32m~/anaconda3/lib/python3.9/site-packages/pandas/core/internals/managers.py:304\u001b[0m, in \u001b[0;36mBaseBlockManager.apply\u001b[0;34m(self, f, align_keys, ignore_failures, **kwargs)\u001b[0m\n\u001b[1;32m    302\u001b[0m         applied \u001b[38;5;241m=\u001b[39m b\u001b[38;5;241m.\u001b[39mapply(f, \u001b[38;5;241m*\u001b[39m\u001b[38;5;241m*\u001b[39mkwargs)\n\u001b[1;32m    303\u001b[0m     \u001b[38;5;28;01melse\u001b[39;00m:\n\u001b[0;32m--> 304\u001b[0m         applied \u001b[38;5;241m=\u001b[39m \u001b[38;5;28;43mgetattr\u001b[39;49m\u001b[43m(\u001b[49m\u001b[43mb\u001b[49m\u001b[43m,\u001b[49m\u001b[43m \u001b[49m\u001b[43mf\u001b[49m\u001b[43m)\u001b[49m\u001b[43m(\u001b[49m\u001b[38;5;241;43m*\u001b[39;49m\u001b[38;5;241;43m*\u001b[39;49m\u001b[43mkwargs\u001b[49m\u001b[43m)\u001b[49m\n\u001b[1;32m    305\u001b[0m \u001b[38;5;28;01mexcept\u001b[39;00m (\u001b[38;5;167;01mTypeError\u001b[39;00m, \u001b[38;5;167;01mNotImplementedError\u001b[39;00m):\n\u001b[1;32m    306\u001b[0m     \u001b[38;5;28;01mif\u001b[39;00m \u001b[38;5;129;01mnot\u001b[39;00m ignore_failures:\n",
      "File \u001b[0;32m~/anaconda3/lib/python3.9/site-packages/pandas/core/internals/blocks.py:580\u001b[0m, in \u001b[0;36mBlock.astype\u001b[0;34m(self, dtype, copy, errors)\u001b[0m\n\u001b[1;32m    562\u001b[0m \u001b[38;5;124;03m\"\"\"\u001b[39;00m\n\u001b[1;32m    563\u001b[0m \u001b[38;5;124;03mCoerce to the new dtype.\u001b[39;00m\n\u001b[1;32m    564\u001b[0m \n\u001b[0;32m   (...)\u001b[0m\n\u001b[1;32m    576\u001b[0m \u001b[38;5;124;03mBlock\u001b[39;00m\n\u001b[1;32m    577\u001b[0m \u001b[38;5;124;03m\"\"\"\u001b[39;00m\n\u001b[1;32m    578\u001b[0m values \u001b[38;5;241m=\u001b[39m \u001b[38;5;28mself\u001b[39m\u001b[38;5;241m.\u001b[39mvalues\n\u001b[0;32m--> 580\u001b[0m new_values \u001b[38;5;241m=\u001b[39m \u001b[43mastype_array_safe\u001b[49m\u001b[43m(\u001b[49m\u001b[43mvalues\u001b[49m\u001b[43m,\u001b[49m\u001b[43m \u001b[49m\u001b[43mdtype\u001b[49m\u001b[43m,\u001b[49m\u001b[43m \u001b[49m\u001b[43mcopy\u001b[49m\u001b[38;5;241;43m=\u001b[39;49m\u001b[43mcopy\u001b[49m\u001b[43m,\u001b[49m\u001b[43m \u001b[49m\u001b[43merrors\u001b[49m\u001b[38;5;241;43m=\u001b[39;49m\u001b[43merrors\u001b[49m\u001b[43m)\u001b[49m\n\u001b[1;32m    582\u001b[0m new_values \u001b[38;5;241m=\u001b[39m maybe_coerce_values(new_values)\n\u001b[1;32m    583\u001b[0m newb \u001b[38;5;241m=\u001b[39m \u001b[38;5;28mself\u001b[39m\u001b[38;5;241m.\u001b[39mmake_block(new_values)\n",
      "File \u001b[0;32m~/anaconda3/lib/python3.9/site-packages/pandas/core/dtypes/cast.py:1292\u001b[0m, in \u001b[0;36mastype_array_safe\u001b[0;34m(values, dtype, copy, errors)\u001b[0m\n\u001b[1;32m   1289\u001b[0m     dtype \u001b[38;5;241m=\u001b[39m dtype\u001b[38;5;241m.\u001b[39mnumpy_dtype\n\u001b[1;32m   1291\u001b[0m \u001b[38;5;28;01mtry\u001b[39;00m:\n\u001b[0;32m-> 1292\u001b[0m     new_values \u001b[38;5;241m=\u001b[39m \u001b[43mastype_array\u001b[49m\u001b[43m(\u001b[49m\u001b[43mvalues\u001b[49m\u001b[43m,\u001b[49m\u001b[43m \u001b[49m\u001b[43mdtype\u001b[49m\u001b[43m,\u001b[49m\u001b[43m \u001b[49m\u001b[43mcopy\u001b[49m\u001b[38;5;241;43m=\u001b[39;49m\u001b[43mcopy\u001b[49m\u001b[43m)\u001b[49m\n\u001b[1;32m   1293\u001b[0m \u001b[38;5;28;01mexcept\u001b[39;00m (\u001b[38;5;167;01mValueError\u001b[39;00m, \u001b[38;5;167;01mTypeError\u001b[39;00m):\n\u001b[1;32m   1294\u001b[0m     \u001b[38;5;66;03m# e.g. astype_nansafe can fail on object-dtype of strings\u001b[39;00m\n\u001b[1;32m   1295\u001b[0m     \u001b[38;5;66;03m#  trying to convert to float\u001b[39;00m\n\u001b[1;32m   1296\u001b[0m     \u001b[38;5;28;01mif\u001b[39;00m errors \u001b[38;5;241m==\u001b[39m \u001b[38;5;124m\"\u001b[39m\u001b[38;5;124mignore\u001b[39m\u001b[38;5;124m\"\u001b[39m:\n",
      "File \u001b[0;32m~/anaconda3/lib/python3.9/site-packages/pandas/core/dtypes/cast.py:1237\u001b[0m, in \u001b[0;36mastype_array\u001b[0;34m(values, dtype, copy)\u001b[0m\n\u001b[1;32m   1234\u001b[0m     values \u001b[38;5;241m=\u001b[39m values\u001b[38;5;241m.\u001b[39mastype(dtype, copy\u001b[38;5;241m=\u001b[39mcopy)\n\u001b[1;32m   1236\u001b[0m \u001b[38;5;28;01melse\u001b[39;00m:\n\u001b[0;32m-> 1237\u001b[0m     values \u001b[38;5;241m=\u001b[39m \u001b[43mastype_nansafe\u001b[49m\u001b[43m(\u001b[49m\u001b[43mvalues\u001b[49m\u001b[43m,\u001b[49m\u001b[43m \u001b[49m\u001b[43mdtype\u001b[49m\u001b[43m,\u001b[49m\u001b[43m \u001b[49m\u001b[43mcopy\u001b[49m\u001b[38;5;241;43m=\u001b[39;49m\u001b[43mcopy\u001b[49m\u001b[43m)\u001b[49m\n\u001b[1;32m   1239\u001b[0m \u001b[38;5;66;03m# in pandas we don't store numpy str dtypes, so convert to object\u001b[39;00m\n\u001b[1;32m   1240\u001b[0m \u001b[38;5;28;01mif\u001b[39;00m \u001b[38;5;28misinstance\u001b[39m(dtype, np\u001b[38;5;241m.\u001b[39mdtype) \u001b[38;5;129;01mand\u001b[39;00m \u001b[38;5;28missubclass\u001b[39m(values\u001b[38;5;241m.\u001b[39mdtype\u001b[38;5;241m.\u001b[39mtype, \u001b[38;5;28mstr\u001b[39m):\n",
      "File \u001b[0;32m~/anaconda3/lib/python3.9/site-packages/pandas/core/dtypes/cast.py:1154\u001b[0m, in \u001b[0;36mastype_nansafe\u001b[0;34m(arr, dtype, copy, skipna)\u001b[0m\n\u001b[1;32m   1150\u001b[0m \u001b[38;5;28;01melif\u001b[39;00m is_object_dtype(arr\u001b[38;5;241m.\u001b[39mdtype):\n\u001b[1;32m   1151\u001b[0m \n\u001b[1;32m   1152\u001b[0m     \u001b[38;5;66;03m# work around NumPy brokenness, #1987\u001b[39;00m\n\u001b[1;32m   1153\u001b[0m     \u001b[38;5;28;01mif\u001b[39;00m np\u001b[38;5;241m.\u001b[39missubdtype(dtype\u001b[38;5;241m.\u001b[39mtype, np\u001b[38;5;241m.\u001b[39minteger):\n\u001b[0;32m-> 1154\u001b[0m         \u001b[38;5;28;01mreturn\u001b[39;00m \u001b[43mlib\u001b[49m\u001b[38;5;241;43m.\u001b[39;49m\u001b[43mastype_intsafe\u001b[49m\u001b[43m(\u001b[49m\u001b[43marr\u001b[49m\u001b[43m,\u001b[49m\u001b[43m \u001b[49m\u001b[43mdtype\u001b[49m\u001b[43m)\u001b[49m\n\u001b[1;32m   1156\u001b[0m     \u001b[38;5;66;03m# if we have a datetime/timedelta array of objects\u001b[39;00m\n\u001b[1;32m   1157\u001b[0m     \u001b[38;5;66;03m# then coerce to a proper dtype and recall astype_nansafe\u001b[39;00m\n\u001b[1;32m   1159\u001b[0m     \u001b[38;5;28;01melif\u001b[39;00m is_datetime64_dtype(dtype):\n",
      "File \u001b[0;32m~/anaconda3/lib/python3.9/site-packages/pandas/_libs/lib.pyx:668\u001b[0m, in \u001b[0;36mpandas._libs.lib.astype_intsafe\u001b[0;34m()\u001b[0m\n",
      "\u001b[0;31mValueError\u001b[0m: invalid literal for int() with base 10: '124,454'"
     ]
    }
   ],
   "source": [
    "print(df.dtypes)\n",
    "# print(df.head(2))\n",
    "#LOAD AND EXPLORE DE DATA\n",
    "# df['gross'] = df['gross'].str.replace(',', '')\n",
    "df['gross']=df['gross'].astype(int)\n",
    "print(df.dtypes)\n",
    "# print(df.head(2))"
   ]
  },
  {
   "cell_type": "code",
   "execution_count": null,
   "metadata": {
    "id": "ZecpF0vSAqrK"
   },
   "outputs": [],
   "source": []
  }
 ],
 "metadata": {
  "colab": {
   "authorship_tag": "ABX9TyNmpXzfLPtw6OVgEBXNmICf",
   "include_colab_link": true,
   "provenance": []
  },
  "kernelspec": {
   "display_name": "Python 3 (ipykernel)",
   "language": "python",
   "name": "python3"
  },
  "language_info": {
   "codemirror_mode": {
    "name": "ipython",
    "version": 3
   },
   "file_extension": ".py",
   "mimetype": "text/x-python",
   "name": "python",
   "nbconvert_exporter": "python",
   "pygments_lexer": "ipython3",
   "version": "3.9.12"
  }
 },
 "nbformat": 4,
 "nbformat_minor": 1
}
