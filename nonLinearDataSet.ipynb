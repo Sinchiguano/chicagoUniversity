{
  "nbformat": 4,
  "nbformat_minor": 0,
  "metadata": {
    "colab": {
      "provenance": [],
      "authorship_tag": "ABX9TyP2jMpWyp1ZgNPNhkf9rjbY",
      "include_colab_link": true
    },
    "kernelspec": {
      "name": "python3",
      "display_name": "Python 3"
    },
    "language_info": {
      "name": "python"
    }
  },
  "cells": [
    {
      "cell_type": "markdown",
      "metadata": {
        "id": "view-in-github",
        "colab_type": "text"
      },
      "source": [
        "<a href=\"https://colab.research.google.com/github/Sinchiguano/chicagoUniversity/blob/main/nonLinearDataSet.ipynb\" target=\"_parent\"><img src=\"https://colab.research.google.com/assets/colab-badge.svg\" alt=\"Open In Colab\"/></a>"
      ]
    },
    {
      "cell_type": "code",
      "execution_count": 43,
      "metadata": {
        "id": "IMI4grg01aqx"
      },
      "outputs": [],
      "source": [
        "from sklearn.linear_model import LinearRegression\n",
        "import numpy as np\n",
        "import matplotlib.pyplot as plt\n",
        "import pandas as pd\n",
        "import seaborn as sns"
      ]
    },
    {
      "cell_type": "code",
      "source": [
        "\n",
        "# ctrl + / in order to comment\n",
        "import pandas as pd\n",
        "from google.colab import files\n",
        "url = 'https://raw.githubusercontent.com/Sinchiguano/chicagoUniversity/main/salary_2015.csv'\n",
        "df = pd.read_csv(url)\n",
        "print(df.head(5))\n",
        "print(df.dtypes)\n"
      ],
      "metadata": {
        "colab": {
          "base_uri": "https://localhost:8080/"
        },
        "id": "_zernm4s1xUm",
        "outputId": "56c1e26c-a8a2-44dd-e2c8-e5602259dd85"
      },
      "execution_count": 44,
      "outputs": [
        {
          "output_type": "stream",
          "name": "stdout",
          "text": [
            "   year  location       first        last                  title    gross  \\\n",
            "0  2015  Berkeley        ANNE       AABOE          BUS SYS ANL 4  124,454   \n",
            "1  2015  Berkeley       DAVID       AAKER         RECALL FACULTY    2,500   \n",
            "2  2015  Berkeley   ELIZABETH        ABEL                PROF-AY  138,775   \n",
            "3  2015  Berkeley      NORMAN  ABRAHAMSON  ADJ PROF-AY-1/9-B/E/E   19,668   \n",
            "4  2015  Berkeley     BARBARA      ABRAMS                PROF-AY  191,162   \n",
            "\n",
            "   regular overtime   other  \n",
            "0  124,454        0       0  \n",
            "1        0        0   2,500  \n",
            "2  138,775        0       0  \n",
            "3   19,668        0       0  \n",
            "4  169,862        0  21,300  \n",
            "year         int64\n",
            "location    object\n",
            "first       object\n",
            "last        object\n",
            "title       object\n",
            "gross       object\n",
            "regular     object\n",
            "overtime    object\n",
            "other       object\n",
            "dtype: object\n"
          ]
        }
      ]
    },
    {
      "cell_type": "code",
      "source": [
        "df['gross'] = df['gross'].str.replace(',', '')\n",
        "df['gross'] = df['gross'].astype(int)\n",
        "df.head(5)\n",
        "df.dtypes"
      ],
      "metadata": {
        "id": "ZecpF0vSAqrK",
        "outputId": "8fa9e113-8f57-4223-a46e-e6d6330304b6",
        "colab": {
          "base_uri": "https://localhost:8080/"
        }
      },
      "execution_count": 45,
      "outputs": [
        {
          "output_type": "execute_result",
          "data": {
            "text/plain": [
              "year         int64\n",
              "location    object\n",
              "first       object\n",
              "last        object\n",
              "title       object\n",
              "gross        int64\n",
              "regular     object\n",
              "overtime    object\n",
              "other       object\n",
              "dtype: object"
            ]
          },
          "metadata": {},
          "execution_count": 45
        }
      ]
    },
    {
      "cell_type": "code",
      "source": [
        "print(df.head(23))"
      ],
      "metadata": {
        "id": "087VSw1zHFyq",
        "outputId": "a6a5b892-8571-47c8-b19f-9bb4cb1a9faf",
        "colab": {
          "base_uri": "https://localhost:8080/"
        }
      },
      "execution_count": 46,
      "outputs": [
        {
          "output_type": "stream",
          "name": "stdout",
          "text": [
            "    year  location       first        last                  title   gross  \\\n",
            "0   2015  Berkeley        ANNE       AABOE          BUS SYS ANL 4  124454   \n",
            "1   2015  Berkeley       DAVID       AAKER         RECALL FACULTY    2500   \n",
            "2   2015  Berkeley   ELIZABETH        ABEL                PROF-AY  138775   \n",
            "3   2015  Berkeley      NORMAN  ABRAHAMSON  ADJ PROF-AY-1/9-B/E/E   19668   \n",
            "4   2015  Berkeley     BARBARA      ABRAMS                PROF-AY  191162   \n",
            "5   2015  Berkeley        JOHN       ACZON    FINANCIAL SVC ANL 3   83510   \n",
            "6   2015  Berkeley     ANTHONY       ADAMS                 RES-FY    9587   \n",
            "7   2015  Berkeley       PENNY       HINES          ACAD HR ANL 5  126707   \n",
            "8   2015  Berkeley    ANINDITA    ADHIKARI         SR LECT SOE-AY  107345   \n",
            "9   2015  Berkeley        ILAN       ADLER          PROF-AY-B/E/E  166617   \n",
            "10  2015  Berkeley       VINOD    AGGARWAL                PROF-AY  167525   \n",
            "11  2015  Berkeley       ALICE     AGOGINO          PROF-AY-B/E/E  243259   \n",
            "12  2015  Berkeley        JOHN       AGRAZ             DEV TCHN 3     363   \n",
            "13  2015  Berkeley         ADA     AGUILAR   PROJECT POLICY ANL 2   59072   \n",
            "14  2015  Berkeley        AMOR       AGUON     COMPENSATION ANL 4  101639   \n",
            "15  2015  Berkeley      GEORGE     AKERLOF         RECALL FACULTY   47990   \n",
            "16  2015  Berkeley       MITRA     AKHTARI              SRA 2 NEX   43832   \n",
            "17  2015  Berkeley       DIANE      MILANO          EVENTS SPEC 3   49381   \n",
            "18  2015  Berkeley       CRAIG    ALDERSON          LIBRARY AST 4   27605   \n",
            "19  2015  Berkeley       DAVID      ALDOUS                PROF-AY  218666   \n",
            "20  2015  Berkeley     RONELLE   ALEXANDER                PROF-AY  167642   \n",
            "21  2015  Berkeley       ROSIA   ALEXANDER              SYS ADM 3   80964   \n",
            "22  2015  Berkeley     SAUNDRA   ALEXANDER    FINANCIAL SVC ANL 3   69274   \n",
            "\n",
            "    regular overtime   other  \n",
            "0   124,454        0       0  \n",
            "1         0        0   2,500  \n",
            "2   138,775        0       0  \n",
            "3    19,668        0       0  \n",
            "4   169,862        0  21,300  \n",
            "5    78,510        0   5,000  \n",
            "6     9,587        0       0  \n",
            "7   126,707        0       0  \n",
            "8   107,345        0       0  \n",
            "9   151,617        0  15,000  \n",
            "10  167,525        0       0  \n",
            "11  203,150        0  40,109  \n",
            "12      363        0       0  \n",
            "13   59,072        0       0  \n",
            "14  101,139        0     500  \n",
            "15        0        0  47,990  \n",
            "16   43,832        0       0  \n",
            "17   49,381        0       0  \n",
            "18   27,605        0       0  \n",
            "19  183,225        0  35,441  \n",
            "20  167,642        0       0  \n",
            "21   80,964        0       0  \n",
            "22   67,274        0   2,000  \n"
          ]
        }
      ]
    },
    {
      "cell_type": "code",
      "source": [
        "# print(df.tail(20))\n",
        "print('********************')\n",
        "mean_salaries=pd.DataFrame(df.groupby('title')['gross'].count())\n",
        "print(mean_salaries.head(5))\n",
        "\n",
        "mean_salaries=pd.DataFrame(df.groupby('title')['gross'].mean())\n",
        "print(mean_salaries.head(5))\n",
        "\n",
        "mean_salaries=pd.DataFrame(df.groupby('title')['gross'].mean().reset_index())\n",
        "print(mean_salaries.head(5))\n",
        "\n",
        "mean_salaries=pd.DataFrame(df.groupby('title')['gross'].mean().reset_index(name='meanValue'))\n",
        "print(mean_salaries.head(5))\n",
        "\n"
      ],
      "metadata": {
        "id": "OiU9SjglHuwz",
        "outputId": "7468d0b2-9f31-47a9-b096-cb47420d39b8",
        "colab": {
          "base_uri": "https://localhost:8080/"
        }
      },
      "execution_count": 70,
      "outputs": [
        {
          "output_type": "stream",
          "name": "stdout",
          "text": [
            "********************\n",
            "                            gross\n",
            "title                            \n",
            "ABLE SEAMAN                    16\n",
            "ABSOLUTE RETURNS INV MGR 3      2\n",
            "ABSOLUTE RETURNS INV OFCR       1\n",
            "ACAD ACHIEVEMENT CNSLR 2       21\n",
            "ACAD ACHIEVEMENT CNSLR 3       11\n",
            "                                    gross\n",
            "title                                    \n",
            "ABLE SEAMAN                  30707.125000\n",
            "ABSOLUTE RETURNS INV MGR 3  472294.000000\n",
            "ABSOLUTE RETURNS INV OFCR   253152.000000\n",
            "ACAD ACHIEVEMENT CNSLR 2     30020.666667\n",
            "ACAD ACHIEVEMENT CNSLR 3     55218.000000\n",
            "                        title          gross\n",
            "0                 ABLE SEAMAN   30707.125000\n",
            "1  ABSOLUTE RETURNS INV MGR 3  472294.000000\n",
            "2   ABSOLUTE RETURNS INV OFCR  253152.000000\n",
            "3    ACAD ACHIEVEMENT CNSLR 2   30020.666667\n",
            "4    ACAD ACHIEVEMENT CNSLR 3   55218.000000\n",
            "                        title           mean\n",
            "0                 ABLE SEAMAN   30707.125000\n",
            "1  ABSOLUTE RETURNS INV MGR 3  472294.000000\n",
            "2   ABSOLUTE RETURNS INV OFCR  253152.000000\n",
            "3    ACAD ACHIEVEMENT CNSLR 2   30020.666667\n",
            "4    ACAD ACHIEVEMENT CNSLR 3   55218.000000\n"
          ]
        }
      ]
    }
  ]
}